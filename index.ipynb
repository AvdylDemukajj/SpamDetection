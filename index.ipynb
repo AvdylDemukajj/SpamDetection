{
 "cells": [
  {
   "cell_type": "markdown",
   "metadata": {},
   "source": []
  },
  {
   "cell_type": "code",
   "execution_count": 7,
   "metadata": {},
   "outputs": [],
   "source": [
    "import pandas as pd\n",
    "from sklearn.model_selection import train_test_split\n",
    "from sklearn.feature_extraction.text import CountVectorizer\n",
    "from sklearn.naive_bayes import MultinomialNB\n",
    "from sklearn.metrics import accuracy_score, confusion_matrix\n",
    "import matplotlib.pyplot as plt\n",
    "import seaborn as sns"
   ]
  },
  {
   "cell_type": "code",
   "execution_count": 8,
   "metadata": {},
   "outputs": [
    {
     "data": {
      "text/html": [
       "<div>\n",
       "<style scoped>\n",
       "    .dataframe tbody tr th:only-of-type {\n",
       "        vertical-align: middle;\n",
       "    }\n",
       "\n",
       "    .dataframe tbody tr th {\n",
       "        vertical-align: top;\n",
       "    }\n",
       "\n",
       "    .dataframe thead th {\n",
       "        text-align: right;\n",
       "    }\n",
       "</style>\n",
       "<table border=\"1\" class=\"dataframe\">\n",
       "  <thead>\n",
       "    <tr style=\"text-align: right;\">\n",
       "      <th></th>\n",
       "      <th>label</th>\n",
       "      <th>message</th>\n",
       "    </tr>\n",
       "  </thead>\n",
       "  <tbody>\n",
       "    <tr>\n",
       "      <th>0</th>\n",
       "      <td>ham</td>\n",
       "      <td>Go until jurong point, crazy.. Available only ...</td>\n",
       "    </tr>\n",
       "    <tr>\n",
       "      <th>1</th>\n",
       "      <td>ham</td>\n",
       "      <td>Ok lar... Joking wif u oni...</td>\n",
       "    </tr>\n",
       "    <tr>\n",
       "      <th>2</th>\n",
       "      <td>spam</td>\n",
       "      <td>Free entry in 2 a wkly comp to win FA Cup fina...</td>\n",
       "    </tr>\n",
       "    <tr>\n",
       "      <th>3</th>\n",
       "      <td>ham</td>\n",
       "      <td>U dun say so early hor... U c already then say...</td>\n",
       "    </tr>\n",
       "    <tr>\n",
       "      <th>4</th>\n",
       "      <td>ham</td>\n",
       "      <td>Nah I don't think he goes to usf, he lives aro...</td>\n",
       "    </tr>\n",
       "  </tbody>\n",
       "</table>\n",
       "</div>"
      ],
      "text/plain": [
       "  label                                            message\n",
       "0   ham  Go until jurong point, crazy.. Available only ...\n",
       "1   ham                      Ok lar... Joking wif u oni...\n",
       "2  spam  Free entry in 2 a wkly comp to win FA Cup fina...\n",
       "3   ham  U dun say so early hor... U c already then say...\n",
       "4   ham  Nah I don't think he goes to usf, he lives aro..."
      ]
     },
     "execution_count": 8,
     "metadata": {},
     "output_type": "execute_result"
    }
   ],
   "source": [
    "file_path = './SMSSpamCollection.txt'\n",
    "data = pd.read_csv(file_path, sep='\\t', header=None, names=['label', 'message'])\n",
    "data.head()"
   ]
  },
  {
   "cell_type": "code",
   "execution_count": 9,
   "metadata": {},
   "outputs": [],
   "source": [
    "X_train, X_test, y_train, y_test = train_test_split(data['message'], data['label'], test_size=0.2, random_state=42)"
   ]
  },
  {
   "cell_type": "code",
   "execution_count": 11,
   "metadata": {},
   "outputs": [
    {
     "name": "stdout",
     "output_type": "stream",
     "text": [
      "<Compressed Sparse Row sparse matrix of dtype 'int64'\n",
      "\twith 34855 stored elements and shape (4457, 7441)>\n",
      "  Coords\tValues\n",
      "  (0, 5513)\t1\n",
      "  (0, 7223)\t1\n",
      "  (0, 258)\t1\n",
      "  (0, 7163)\t1\n",
      "  (0, 354)\t1\n",
      "  (0, 2725)\t1\n",
      "  (0, 7301)\t1\n",
      "  (0, 2050)\t1\n",
      "  (0, 3263)\t1\n",
      "  (0, 5801)\t1\n",
      "  (0, 6265)\t1\n",
      "  (0, 695)\t1\n",
      "  (0, 2498)\t1\n",
      "  (0, 5819)\t1\n",
      "  (1, 3268)\t1\n",
      "  (1, 6110)\t1\n",
      "  (1, 6739)\t1\n",
      "  (1, 2336)\t1\n",
      "  (1, 5651)\t1\n",
      "  (1, 3334)\t1\n",
      "  (1, 2441)\t1\n",
      "  (1, 4510)\t1\n",
      "  (1, 3933)\t1\n",
      "  (1, 3805)\t1\n",
      "  (1, 2556)\t1\n",
      "  :\t:\n",
      "  (4452, 3085)\t1\n",
      "  (4452, 3291)\t1\n",
      "  (4452, 3979)\t1\n",
      "  (4452, 7281)\t1\n",
      "  (4452, 2439)\t1\n",
      "  (4452, 7265)\t1\n",
      "  (4453, 6109)\t1\n",
      "  (4453, 4005)\t1\n",
      "  (4453, 3875)\t1\n",
      "  (4454, 2894)\t1\n",
      "  (4454, 3250)\t1\n",
      "  (4454, 5410)\t1\n",
      "  (4454, 5150)\t1\n",
      "  (4454, 6115)\t1\n",
      "  (4454, 6114)\t1\n",
      "  (4455, 6687)\t1\n",
      "  (4455, 4661)\t1\n",
      "  (4455, 3692)\t1\n",
      "  (4455, 5816)\t1\n",
      "  (4456, 3721)\t1\n",
      "  (4456, 2237)\t1\n",
      "  (4456, 5720)\t1\n",
      "  (4456, 6468)\t1\n",
      "  (4456, 6079)\t1\n",
      "  (4456, 4519)\t1\n"
     ]
    }
   ],
   "source": [
    "vectorizer = CountVectorizer(stop_words='english')\n",
    "X_train_vectorized = vectorizer.fit_transform(X_train)\n",
    "X_test_vectorized = vectorizer.transform(X_test)"
   ]
  }
 ],
 "metadata": {
  "kernelspec": {
   "display_name": "Python 3",
   "language": "python",
   "name": "python3"
  },
  "language_info": {
   "codemirror_mode": {
    "name": "ipython",
    "version": 3
   },
   "file_extension": ".py",
   "mimetype": "text/x-python",
   "name": "python",
   "nbconvert_exporter": "python",
   "pygments_lexer": "ipython3",
   "version": "3.12.5"
  }
 },
 "nbformat": 4,
 "nbformat_minor": 2
}
